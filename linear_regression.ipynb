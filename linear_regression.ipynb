{
 "cells": [
  {
   "cell_type": "markdown",
   "metadata": {},
   "source": [
    "## Linear Regression with Scikit-Learn in Python\n",
    "\n",
    "In this notebook, we will employ a linear regression model  to predict continuous value outputs of residents water units outputs in $\\mathrm{m^3}$ using Scikit-Learn, which is one of the most popular machine learning libraries for Python."
   ]
  },
  {
   "cell_type": "markdown",
   "metadata": {},
   "source": [
    "### Imports \n",
    "Lets import our libraries that we are going to use in our project"
   ]
  },
  {
   "cell_type": "code",
   "execution_count": 1,
   "metadata": {},
   "outputs": [],
   "source": [
    "import pandas as pd\n",
    "import numpy as np\n",
    "\n",
    "import matplotlib.pylab as plt\n",
    "import seaborn as seabornInstance\n",
    "\n",
    "\n",
    "from sklearn.linear_model import LinearRegression\n",
    "from sklearn.model_selection import train_test_split\n",
    "from sklearn import metrics\n",
    "\n",
    "# allow plots to appear directly in the notebook\n",
    "%matplotlib inline"
   ]
  },
  {
   "cell_type": "code",
   "execution_count": 2,
   "metadata": {},
   "outputs": [],
   "source": [
    "# Lets load our data \n",
    "df = pd.read_csv('data.csv')"
   ]
  },
  {
   "cell_type": "code",
   "execution_count": 3,
   "metadata": {},
   "outputs": [
    {
     "data": {
      "text/html": [
       "<div>\n",
       "<style scoped>\n",
       "    .dataframe tbody tr th:only-of-type {\n",
       "        vertical-align: middle;\n",
       "    }\n",
       "\n",
       "    .dataframe tbody tr th {\n",
       "        vertical-align: top;\n",
       "    }\n",
       "\n",
       "    .dataframe thead th {\n",
       "        text-align: right;\n",
       "    }\n",
       "</style>\n",
       "<table border=\"1\" class=\"dataframe\">\n",
       "  <thead>\n",
       "    <tr style=\"text-align: right;\">\n",
       "      <th></th>\n",
       "      <th>RESERVOIR_WATER</th>\n",
       "      <th>RESIDENT_UNITS</th>\n",
       "    </tr>\n",
       "  </thead>\n",
       "  <tbody>\n",
       "    <tr>\n",
       "      <th>0</th>\n",
       "      <td>6887</td>\n",
       "      <td>9128.5</td>\n",
       "    </tr>\n",
       "    <tr>\n",
       "      <th>1</th>\n",
       "      <td>11370</td>\n",
       "      <td>9129.0</td>\n",
       "    </tr>\n",
       "    <tr>\n",
       "      <th>2</th>\n",
       "      <td>12080</td>\n",
       "      <td>12080.0</td>\n",
       "    </tr>\n",
       "    <tr>\n",
       "      <th>3</th>\n",
       "      <td>12245</td>\n",
       "      <td>12245.0</td>\n",
       "    </tr>\n",
       "    <tr>\n",
       "      <th>4</th>\n",
       "      <td>15096</td>\n",
       "      <td>15096.0</td>\n",
       "    </tr>\n",
       "  </tbody>\n",
       "</table>\n",
       "</div>"
      ],
      "text/plain": [
       "   RESERVOIR_WATER  RESIDENT_UNITS \n",
       "0             6887           9128.5\n",
       "1            11370           9129.0\n",
       "2            12080          12080.0\n",
       "3            12245          12245.0\n",
       "4            15096          15096.0"
      ]
     },
     "execution_count": 3,
     "metadata": {},
     "output_type": "execute_result"
    }
   ],
   "source": [
    "# Lets see how our data is like \n",
    "df.head()"
   ]
  },
  {
   "cell_type": "code",
   "execution_count": 4,
   "metadata": {},
   "outputs": [
    {
     "name": "stdout",
     "output_type": "stream",
     "text": [
      "VALUES         RESERVOIR_WATER  RESIDENT_UNITS \n",
      "count        28.000000        28.000000\n",
      "mean      13885.428571     13231.375000\n",
      "std        1964.235718      2274.304609\n",
      "min        6887.000000      9128.500000\n",
      "25%       13070.250000     12148.750000\n",
      "50%       14325.500000     12784.500000\n",
      "75%       14941.000000     15274.750000\n",
      "max       17684.000000     16785.000000\n",
      "Columns and Rows (28, 2)\n"
     ]
    }
   ],
   "source": [
    "# Lets see the statistical details of our data using the describe function\n",
    "print('VALUES ', df.describe())\n",
    "# Lets see how many rows and columns are in our dataset\n",
    "print('Columns and Rows', df.shape)"
   ]
  },
  {
   "cell_type": "markdown",
   "metadata": {},
   "source": [
    "Lets add some of the features by adding calculating the difference and percetage of the units of water in the reservoir to unit recodings of resident units"
   ]
  },
  {
   "cell_type": "code",
   "execution_count": 5,
   "metadata": {},
   "outputs": [
    {
     "data": {
      "text/html": [
       "<div>\n",
       "<style scoped>\n",
       "    .dataframe tbody tr th:only-of-type {\n",
       "        vertical-align: middle;\n",
       "    }\n",
       "\n",
       "    .dataframe tbody tr th {\n",
       "        vertical-align: top;\n",
       "    }\n",
       "\n",
       "    .dataframe thead th {\n",
       "        text-align: right;\n",
       "    }\n",
       "</style>\n",
       "<table border=\"1\" class=\"dataframe\">\n",
       "  <thead>\n",
       "    <tr style=\"text-align: right;\">\n",
       "      <th></th>\n",
       "      <th>RESERVOIR_WATER</th>\n",
       "      <th>RESIDENT_UNITS</th>\n",
       "      <th>DIFFERENCE</th>\n",
       "      <th>Perc (%)</th>\n",
       "    </tr>\n",
       "  </thead>\n",
       "  <tbody>\n",
       "    <tr>\n",
       "      <th>0</th>\n",
       "      <td>6887</td>\n",
       "      <td>9128.5</td>\n",
       "      <td>-2241.5</td>\n",
       "      <td>132.546827</td>\n",
       "    </tr>\n",
       "    <tr>\n",
       "      <th>1</th>\n",
       "      <td>11370</td>\n",
       "      <td>9129.0</td>\n",
       "      <td>2241.0</td>\n",
       "      <td>80.290237</td>\n",
       "    </tr>\n",
       "    <tr>\n",
       "      <th>2</th>\n",
       "      <td>12080</td>\n",
       "      <td>12080.0</td>\n",
       "      <td>0.0</td>\n",
       "      <td>100.000000</td>\n",
       "    </tr>\n",
       "    <tr>\n",
       "      <th>3</th>\n",
       "      <td>12245</td>\n",
       "      <td>12245.0</td>\n",
       "      <td>0.0</td>\n",
       "      <td>100.000000</td>\n",
       "    </tr>\n",
       "    <tr>\n",
       "      <th>4</th>\n",
       "      <td>15096</td>\n",
       "      <td>15096.0</td>\n",
       "      <td>0.0</td>\n",
       "      <td>100.000000</td>\n",
       "    </tr>\n",
       "    <tr>\n",
       "      <th>5</th>\n",
       "      <td>13713</td>\n",
       "      <td>13713.0</td>\n",
       "      <td>0.0</td>\n",
       "      <td>100.000000</td>\n",
       "    </tr>\n",
       "    <tr>\n",
       "      <th>6</th>\n",
       "      <td>13563</td>\n",
       "      <td>12161.0</td>\n",
       "      <td>1402.0</td>\n",
       "      <td>89.663054</td>\n",
       "    </tr>\n",
       "    <tr>\n",
       "      <th>7</th>\n",
       "      <td>12491</td>\n",
       "      <td>12161.0</td>\n",
       "      <td>330.0</td>\n",
       "      <td>97.358098</td>\n",
       "    </tr>\n",
       "    <tr>\n",
       "      <th>8</th>\n",
       "      <td>13185</td>\n",
       "      <td>13000.0</td>\n",
       "      <td>185.0</td>\n",
       "      <td>98.596890</td>\n",
       "    </tr>\n",
       "    <tr>\n",
       "      <th>9</th>\n",
       "      <td>11992</td>\n",
       "      <td>12478.0</td>\n",
       "      <td>-486.0</td>\n",
       "      <td>104.052702</td>\n",
       "    </tr>\n",
       "  </tbody>\n",
       "</table>\n",
       "</div>"
      ],
      "text/plain": [
       "   RESERVOIR_WATER  RESIDENT_UNITS   DIFFERENCE    Perc (%)\n",
       "0             6887           9128.5     -2241.5  132.546827\n",
       "1            11370           9129.0      2241.0   80.290237\n",
       "2            12080          12080.0         0.0  100.000000\n",
       "3            12245          12245.0         0.0  100.000000\n",
       "4            15096          15096.0         0.0  100.000000\n",
       "5            13713          13713.0         0.0  100.000000\n",
       "6            13563          12161.0      1402.0   89.663054\n",
       "7            12491          12161.0       330.0   97.358098\n",
       "8            13185          13000.0       185.0   98.596890\n",
       "9            11992          12478.0      -486.0  104.052702"
      ]
     },
     "execution_count": 5,
     "metadata": {},
     "output_type": "execute_result"
    }
   ],
   "source": [
    "# difference between the reserve_water and residents_units\n",
    "df['DIFFERENCE'] = df['RESERVOIR_WATER']-df['RESIDENT_UNITS ']\n",
    "# percentage of the used resident units over the reserver water\n",
    "df['Perc (%)'] = (df['RESIDENT_UNITS ']/df['RESERVOIR_WATER']) * 100\n",
    "# Lets view the first 1o rows in our data\n",
    "df.head(10)"
   ]
  },
  {
   "cell_type": "markdown",
   "metadata": {},
   "source": [
    "### Data Visualization\n",
    "\n",
    "Lets use  `matplotlib` package to visualize our data by plotting  the data as a scatter plot by selecting the *RESERVOIR_WATER* to be our independed value and *RESIDENT_UNITS* to be our dependent value"
   ]
  },
  {
   "cell_type": "code",
   "execution_count": 6,
   "metadata": {},
   "outputs": [
    {
     "data": {
      "text/plain": [
       "<matplotlib.collections.PathCollection at 0x7fecd5a5fcc0>"
      ]
     },
     "execution_count": 6,
     "metadata": {},
     "output_type": "execute_result"
    },
    {
     "data": {
      "image/png": "[encoded data removed]",
      "text/plain": [
       "<Figure size 432x288 with 1 Axes>"
      ]
     },
     "metadata": {
      "needs_background": "light"
     },
     "output_type": "display_data"
    }
   ],
   "source": [
    "plt.title('RESERVOIR WATER vs RESIDENT UNITS')\n",
    "plt.xlabel('RESERVOIR WATER ($\\mathrm{m^3}$)')\n",
    "plt.ylabel('RESIDENT UNITS ($\\mathrm{m^3}$)')\n",
    "plt.scatter(df['RESERVOIR_WATER'],df['RESIDENT_UNITS '], color='r', marker='^')"
   ]
  },
  {
   "cell_type": "markdown",
   "metadata": {},
   "source": [
    "This is how our plot is comming out -  a very beatiful plot :-)"
   ]
  },
  {
   "cell_type": "markdown",
   "metadata": {},
   "source": [
    "### Machine Learning - Linear Regression\n",
    "Lets dig into the intresting stuff, aint you excited? cause the long wait is over.\n",
    "\n",
    "We will use `Linear Regression` to build our model which is used to predict continuous value outputs. "
   ]
  },
  {
   "cell_type": "code",
   "execution_count": 7,
   "metadata": {},
   "outputs": [],
   "source": [
    "# assign our data as attributes (independent) and labels (dependent), labels are whose values to be predicted\n",
    "X = df['RESERVOIR_WATER'].values.reshape(-1,1)\n",
    "y = df['RESIDENT_UNITS '].values.reshape(-1,1) # -1 means that calculate the dimension of rows, but have 1 column\n",
    "\n",
    "# split the test data into 20% then 80% into training \n",
    "X_train, X_test, y_train, y_test = train_test_split(X, y, test_size=0.2, random_state=0)"
   ]
  },
  {
   "cell_type": "code",
   "execution_count": 8,
   "metadata": {},
   "outputs": [
    {
     "data": {
      "text/plain": [
       "LinearRegression(copy_X=True, fit_intercept=True, n_jobs=None, normalize=False)"
      ]
     },
     "execution_count": 8,
     "metadata": {},
     "output_type": "execute_result"
    }
   ],
   "source": [
    "# create linear regression\n",
    "regressor =  LinearRegression()\n",
    "# fit model to training data\n",
    "regressor.fit(X_train, y_train)"
   ]
  },
  {
   "cell_type": "code",
   "execution_count": 9,
   "metadata": {},
   "outputs": [
    {
     "name": "stdout",
     "output_type": "stream",
     "text": [
      "Intercept: [2110.50252997]\n",
      "Slope: [[0.80402594]]\n"
     ]
    }
   ],
   "source": [
    "#To retrieve the intercept:\n",
    "print('Intercept:', regressor.intercept_)\n",
    "\n",
    "#For retrieving the slope:\n",
    "print('Slope:' ,regressor.coef_)"
   ]
  },
  {
   "cell_type": "markdown",
   "metadata": {},
   "source": [
    "The intercept is the value of Y (RESIDENT UNITS) when  X=0 (RESERVOIR WATER). Slope is the change in Y divided by change in X.  In our case the intercept is `2917.68614757` and slope is `0.80402594`. \n",
    "\n",
    "What it means is;\n",
    "1. a  \"unit\" increase in the resevoir water capacity is associated with `0.80402594` increase of residents consumptions\n",
    "2. Or more clearly. An additional increase of 100 m^3 in the  water resevoir is associated with an increase of `80.402594` water units of residents. "
   ]
  },
  {
   "cell_type": "markdown",
   "metadata": {},
   "source": [
    "Lets make some predictions with our data from our trained model by predicting the values of `y` given the new test X `(X_test)` data"
   ]
  },
  {
   "cell_type": "code",
   "execution_count": 10,
   "metadata": {},
   "outputs": [],
   "source": [
    "y_pred = regressor.predict(X_test)"
   ]
  },
  {
   "cell_type": "code",
   "execution_count": 11,
   "metadata": {},
   "outputs": [
    {
     "data": {
      "text/html": [
       "<div>\n",
       "<style scoped>\n",
       "    .dataframe tbody tr th:only-of-type {\n",
       "        vertical-align: middle;\n",
       "    }\n",
       "\n",
       "    .dataframe tbody tr th {\n",
       "        vertical-align: top;\n",
       "    }\n",
       "\n",
       "    .dataframe thead th {\n",
       "        text-align: right;\n",
       "    }\n",
       "</style>\n",
       "<table border=\"1\" class=\"dataframe\">\n",
       "  <thead>\n",
       "    <tr style=\"text-align: right;\">\n",
       "      <th></th>\n",
       "      <th>Actual</th>\n",
       "      <th>Predicted</th>\n",
       "    </tr>\n",
       "  </thead>\n",
       "  <tbody>\n",
       "    <tr>\n",
       "      <th>0</th>\n",
       "      <td>12080.0</td>\n",
       "      <td>11823.135857</td>\n",
       "    </tr>\n",
       "    <tr>\n",
       "      <th>1</th>\n",
       "      <td>12375.0</td>\n",
       "      <td>13937.724074</td>\n",
       "    </tr>\n",
       "    <tr>\n",
       "      <th>2</th>\n",
       "      <td>15811.0</td>\n",
       "      <td>14229.585489</td>\n",
       "    </tr>\n",
       "    <tr>\n",
       "      <th>3</th>\n",
       "      <td>11396.0</td>\n",
       "      <td>13612.897595</td>\n",
       "    </tr>\n",
       "    <tr>\n",
       "      <th>4</th>\n",
       "      <td>13713.0</td>\n",
       "      <td>13136.110214</td>\n",
       "    </tr>\n",
       "    <tr>\n",
       "      <th>5</th>\n",
       "      <td>12659.0</td>\n",
       "      <td>12508.969982</td>\n",
       "    </tr>\n",
       "  </tbody>\n",
       "</table>\n",
       "</div>"
      ],
      "text/plain": [
       "    Actual     Predicted\n",
       "0  12080.0  11823.135857\n",
       "1  12375.0  13937.724074\n",
       "2  15811.0  14229.585489\n",
       "3  11396.0  13612.897595\n",
       "4  13713.0  13136.110214\n",
       "5  12659.0  12508.969982"
      ]
     },
     "execution_count": 11,
     "metadata": {},
     "output_type": "execute_result"
    }
   ],
   "source": [
    "# Lets compare the actual and predicted data from our model\n",
    "df = pd.DataFrame({'Actual': y_test.flatten(), 'Predicted': y_pred.flatten()})\n",
    "df"
   ]
  },
  {
   "cell_type": "code",
   "execution_count": 12,
   "metadata": {},
   "outputs": [
    {
     "data": {
      "text/plain": [
       "<matplotlib.axes._subplots.AxesSubplot at 0x7fecd594fbe0>"
      ]
     },
     "execution_count": 12,
     "metadata": {},
     "output_type": "execute_result"
    },
    {
     "data": {
      "image/png": "[encoded data removed]",
      "text/plain": [
       "<Figure size 432x288 with 1 Axes>"
      ]
     },
     "metadata": {
      "needs_background": "light"
     },
     "output_type": "display_data"
    }
   ],
   "source": [
    "# Lets visualize our actual data over predicted data for the randomly five chosen data used in our model\n",
    "df.plot(kind='bar')\n"
   ]
  },
  {
   "cell_type": "markdown",
   "metadata": {},
   "source": [
    "Here we are comparing the actual values to the predicted values and somehow our model isn't really doing well but its close with a marging in  a range of `50 values`."
   ]
  },
  {
   "cell_type": "code",
   "execution_count": 13,
   "metadata": {},
   "outputs": [
    {
     "data": {
      "text/plain": [
       "[<matplotlib.lines.Line2D at 0x7fecd58efd68>]"
      ]
     },
     "execution_count": 13,
     "metadata": {},
     "output_type": "execute_result"
    },
    {
     "data": {
      "image/png": "[encoded data removed]",
      "text/plain": [
       "<Figure size 432x288 with 1 Axes>"
      ]
     },
     "metadata": {
      "needs_background": "light"
     },
     "output_type": "display_data"
    }
   ],
   "source": [
    "plt.title('RESERVOIR WATER vs RESIDENT UNITS')\n",
    "plt.xlabel('RESERVOIR WATER ($\\mathrm{m^3}$)')\n",
    "plt.ylabel('RESIDENT UNITS ($\\mathrm{m^3}$)')\n",
    "plt.scatter(X, y, color='r', marker='^')\n",
    "plt.plot(X_test, y_pred, color='y')"
   ]
  },
  {
   "cell_type": "markdown",
   "metadata": {},
   "source": [
    "The straight line shown in our plot confirms that our algorithm is in the right path."
   ]
  },
  {
   "cell_type": "markdown",
   "metadata": {},
   "source": [
    "Finally lets evaluate the a performance of our model, for linear regression there are three primart metrics used namely:\n",
    "    \n",
    "\n",
    "1. Mean Absolute Error (MAE) - reprents average error\n",
    "2. Mean Squared Error (MSE) - similar to MAE but noise is exaggerated and \"punishes\" large errors.\n",
    "3. Root Mean Squared Error (RMSE) - similar to MSE, however, the result is square rooted to make it more interpretable as it’s in base units."
   ]
  },
  {
   "cell_type": "code",
   "execution_count": 14,
   "metadata": {},
   "outputs": [
    {
     "name": "stdout",
     "output_type": "stream",
     "text": [
      "MAE: 1057.470020992794\n",
      "MSE: 1713150.5584961798\n",
      "RMSE: 1308.873774852327\n"
     ]
    }
   ],
   "source": [
    "# print result for MAE\n",
    "print('MAE:', metrics.mean_absolute_error(y_test, y_pred))\n",
    "\n",
    "# print results for MSE\n",
    "print('MSE:', metrics.mean_squared_error(y_test, y_pred))\n",
    "\n",
    "# print results for RMSE\n",
    "print('RMSE:', np.sqrt(metrics.mean_squared_error(y_test, y_pred)))\n"
   ]
  },
  {
   "cell_type": "markdown",
   "metadata": {},
   "source": []
  }
 ],
 "metadata": {
  "kernelspec": {
   "display_name": "Python 3",
   "language": "python",
   "name": "python3"
  },
  "language_info": {
   "codemirror_mode": {
    "name": "ipython",
    "version": 3
   },
   "file_extension": ".py",
   "mimetype": "text/x-python",
   "name": "python",
   "nbconvert_exporter": "python",
   "pygments_lexer": "ipython3",
   "version": "3.7.3"
  }
 },
 "nbformat": 4,
 "nbformat_minor": 4
}
